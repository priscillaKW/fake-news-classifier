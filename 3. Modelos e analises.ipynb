{
 "cells": [
  {
   "cell_type": "markdown",
   "metadata": {},
   "source": [
    "# 3. Modelos e Análises"
   ]
  },
  {
   "cell_type": "markdown",
   "metadata": {},
   "source": [
    "Nessa etapa serão implementados os modelos de classificação:\n",
    "    * AdaBoost\n",
    "    * RandomForest\n",
    "    * Regressão Logística com otimização L2"
   ]
  },
  {
   "cell_type": "code",
   "execution_count": 1,
   "metadata": {},
   "outputs": [],
   "source": [
    "# importações\n",
    "import pandas as pd\n",
    "import numpy as np\n",
    "import scipy\n",
    "import matplotlib.pyplot as plt\n",
    "from sklearn.ensemble import AdaBoostClassifier\n",
    "from sklearn.ensemble import RandomForestClassifier\n",
    "from sklearn.svm import SVC\n",
    "from sklearn.linear_model import LogisticRegression\n",
    "from sklearn.model_selection import train_test_split\n",
    "from sklearn import metrics \n",
    "from sklearn.externals import joblib\n",
    "\n",
    "%matplotlib inline"
   ]
  },
  {
   "cell_type": "markdown",
   "metadata": {},
   "source": [
    "#### Importação do conjunto de dados\n",
    "Para avaliação dos modelos será necessário utilizar apenas o conjunto de treinamento. Por ser um desafio do Kaggle, o conjunto de teste é fornecido sem a classe, portanto não é possível obter métricas de validação dos modelos a partir desses dados."
   ]
  },
  {
   "cell_type": "code",
   "execution_count": 2,
   "metadata": {},
   "outputs": [],
   "source": [
    "# importa dataset de treino\n",
    "ids = pd.read_csv('dataset/train_ids.csv')\n",
    "target = pd.read_csv('dataset/train_target.csv')\n",
    "features = scipy.sparse.load_npz('dataset/processed_train.npz')"
   ]
  },
  {
   "cell_type": "code",
   "execution_count": 3,
   "metadata": {},
   "outputs": [],
   "source": [
    "# split em treino e teste\n",
    "X_train, X_test, y_train, y_test, ids_train, ids_test = train_test_split(features, target, ids, test_size=0.3, shuffle=True)"
   ]
  },
  {
   "cell_type": "markdown",
   "metadata": {},
   "source": [
    "#### Funções genéricas de treinamento e avaliação dos modelos"
   ]
  },
  {
   "cell_type": "code",
   "execution_count": 4,
   "metadata": {},
   "outputs": [],
   "source": [
    "def treinamento(X_train, y_train, model_name):\n",
    "    if model_name=='adaboost':\n",
    "        model = AdaBoostClassifier()\n",
    "    if model_name=='randomforest':\n",
    "        model = RandomForestClassifier()\n",
    "    if model_name=='logreg':\n",
    "        model = LogisticRegression(penalty='l2', dual=True, C=0.3)\n",
    "    \n",
    "    model.fit(X_train,y_train)\n",
    "    \n",
    "    return model"
   ]
  },
  {
   "cell_type": "code",
   "execution_count": 5,
   "metadata": {},
   "outputs": [],
   "source": [
    "def predict(X_test, model):\n",
    "    pred = model.predict(X_test)\n",
    "    proba = model.predict_proba(X_test)\n",
    "    return pred, proba"
   ]
  },
  {
   "cell_type": "code",
   "execution_count": 11,
   "metadata": {},
   "outputs": [],
   "source": [
    "def validation(X_test, y_test, proba, pred, model, model_name):\n",
    "    #plt.ylabel('Feature Importance Score')\n",
    "    with open(model_name+'_validation.txt', 'w') as f:\n",
    "        print('Accuracy of the '+model_name+' on test set: {:.3f}'.format(model.score(X_test, y_test['target'])))\n",
    "        print('Accuracy of the '+model_name+' on test set: {:.3f}'.format(model.score(X_test, y_test['target'])), file=f)\n",
    "\n",
    "        print(metrics.classification_report(y_test['target'], pred))\n",
    "        print(metrics.classification_report(y_test['target'], pred), file=f)\n",
    "\n",
    "        print('F-score: '+str(metrics.f1_score(y_test['target'],pred)))\n",
    "        print('F-score: '+str(metrics.f1_score(y_test['target'],pred)), file=f)\n",
    "        \n",
    "        fpr, tpr, thresholds = metrics.roc_curve(pred, y_test['target'])\n",
    "        print('AUC: ' + str(metrics.auc(fpr, tpr)))\n",
    "        print('AUC: ' + str(metrics.auc(fpr, tpr)), file=f)\n",
    "        \n",
    "        cm = metrics.confusion_matrix(y_test, pred)\n",
    "        print(pd.DataFrame({'Real Não Confiável': [cm[0,0],cm[1,0]],'Real Confiável': [cm[0,1],cm[1,1]]},index=['Predict Não Confiável', 'Predict Confiável']))\n",
    "        print(pd.DataFrame({'Real Não Confiável': [cm[0,0],cm[1,0]],'Real Confiável': [cm[0,1],cm[1,1]]},index=['Predict Não Confiável', 'Predict Confiável']), file=f)\n",
    "    return None\n",
    "\n",
    "def plot_roc_curve(y_score, y_true, model_name):\n",
    "    fpr,tpr,thr = metrics.roc_curve(y_score=y_score,y_true=y_true)\n",
    "    roc_auc = metrics.auc(fpr,tpr)\n",
    "    plt.figure()\n",
    "    lw = 2\n",
    "    plt.plot(fpr, tpr, color='darkorange',\n",
    "             lw=lw, label='ROC curve (area = %0.2f)' % roc_auc)\n",
    "    plt.plot([0, 1], [0, 1], color='navy', lw=lw, linestyle='--')\n",
    "    plt.xlim([0.0, 1.0])\n",
    "    plt.ylim([0.0, 1.05])\n",
    "    plt.xlabel('False Positive Rate')\n",
    "    plt.ylabel('True Positive Rate')\n",
    "    plt.title('Receiver operating characteristic example')\n",
    "    plt.legend(loc=\"best\")\n",
    "    plt.savefig(model_name+'_roc_curve.png')\n",
    "    return fpr,tpr,thr\n",
    "\n",
    "def ks_test(decision, y_test, model_name):\n",
    "    scores = pd.DataFrame(\n",
    "        {'scores': decision,\n",
    "         'y': y_test\n",
    "         })\n",
    "    bad = scores[scores['y']==0]\n",
    "    good = scores[scores['y']==1]\n",
    "    \n",
    "    valuesb, baseb = np.histogram(bad['scores'],2000)\n",
    "    valuesg, baseg = np.histogram(good['scores'],2000)\n",
    "    \n",
    "    ks = scipy.stats.ks_2samp(bad['scores'], good['scores'])\n",
    "    print(ks)\n",
    "    # evaluate the cumulative\n",
    "    cumulativeB = np.cumsum(valuesb)\n",
    "    cumulativeG = np.cumsum(valuesg)\n",
    "    cumBperc = (cumulativeB / cumulativeB[-1]) * 100\n",
    "    cumGperc = (cumulativeG / cumulativeG[-1]) * 100\n",
    "\n",
    "    # plot the cumulative function\n",
    "    plt.figure()\n",
    "    plt.plot(baseb[:-1], cumBperc, c='blue', label='Bad')\n",
    "    plt.plot(baseg[:-1], cumGperc, c='green', label='Good')\n",
    "    plt.title('Kolmogorov–Smirnov Test')\n",
    "    text = 'KS = %0.2f' % ks.statistic\n",
    "    plt.text(0.05, 90, text)\n",
    "    plt.savefig(model_name+'_ks_test.png')\n",
    "    # https://docs.scipy.org/doc/scipy-0.15.1/reference/generated/scipy.stats.ks_2samp.html\n",
    "    print(text)"
   ]
  },
  {
   "cell_type": "markdown",
   "metadata": {},
   "source": [
    "### Adaboost"
   ]
  },
  {
   "cell_type": "code",
   "execution_count": 7,
   "metadata": {},
   "outputs": [],
   "source": [
    "model_name = 'adaboost'\n",
    "model = treinamento(X_train, y_train.values.ravel(), model_name)"
   ]
  },
  {
   "cell_type": "code",
   "execution_count": 8,
   "metadata": {},
   "outputs": [],
   "source": [
    "pred, proba = predict(X_test, model)"
   ]
  },
  {
   "cell_type": "code",
   "execution_count": 9,
   "metadata": {
    "scrolled": true
   },
   "outputs": [
    {
     "name": "stdout",
     "output_type": "stream",
     "text": [
      "Accuracy of the adaboost on test set: 0.963\n",
      "              precision    recall  f1-score   support\n",
      "\n",
      "           0       0.97      0.96      0.96      3136\n",
      "           1       0.95      0.97      0.96      2966\n",
      "\n",
      "   micro avg       0.96      0.96      0.96      6102\n",
      "   macro avg       0.96      0.96      0.96      6102\n",
      "weighted avg       0.96      0.96      0.96      6102\n",
      "\n",
      "F-score: 0.9625793518209155\n",
      "AUC: 0.9631970080493014\n",
      "                       Real Não Confiável  Real Confiável\n",
      "Predict Não Confiável                2997             139\n",
      "Predict Confiável                      85            2881\n"
     ]
    }
   ],
   "source": [
    "validation(X_test, y_test, proba, pred, model, model_name)"
   ]
  },
  {
   "cell_type": "code",
   "execution_count": 12,
   "metadata": {},
   "outputs": [
    {
     "data": {
      "image/png": "[encoded data removed]",
      "text/plain": [
       "<Figure size 432x288 with 1 Axes>"
      ]
     },
     "metadata": {
      "needs_background": "light"
     },
     "output_type": "display_data"
    }
   ],
   "source": [
    "fpr,tpr,thr = plot_roc_curve(proba[:,1], y_test['target'], model_name)"
   ]
  },
  {
   "cell_type": "code",
   "execution_count": 13,
   "metadata": {
    "scrolled": true
   },
   "outputs": [
    {
     "name": "stdout",
     "output_type": "stream",
     "text": [
      "Ks_2sampResult(statistic=0.9273367725377407, pvalue=0.0)\n",
      "KS = 0.93\n"
     ]
    },
    {
     "data": {
      "image/png": "[encoded data removed]",
      "text/plain": [
       "<Figure size 432x288 with 1 Axes>"
      ]
     },
     "metadata": {
      "needs_background": "light"
     },
     "output_type": "display_data"
    }
   ],
   "source": [
    "ks_test(proba[:,1],y_test['target'], model_name)"
   ]
  },
  {
   "cell_type": "code",
   "execution_count": 14,
   "metadata": {},
   "outputs": [
    {
     "data": {
      "text/plain": [
       "['adaboost.pkl']"
      ]
     },
     "execution_count": 14,
     "metadata": {},
     "output_type": "execute_result"
    }
   ],
   "source": [
    "joblib.dump(model, model_name+'.pkl')"
   ]
  },
  {
   "cell_type": "markdown",
   "metadata": {},
   "source": [
    "### Random Forest"
   ]
  },
  {
   "cell_type": "code",
   "execution_count": 15,
   "metadata": {},
   "outputs": [
    {
     "name": "stderr",
     "output_type": "stream",
     "text": [
      "c:\\users\\prisk\\appdata\\local\\programs\\python\\python37-32\\lib\\site-packages\\sklearn\\ensemble\\forest.py:246: FutureWarning: The default value of n_estimators will change from 10 in version 0.20 to 100 in 0.22.\n",
      "  \"10 in version 0.20 to 100 in 0.22.\", FutureWarning)\n"
     ]
    }
   ],
   "source": [
    "model_name = 'randomforest'\n",
    "model = treinamento(X_train, y_train.values.ravel(), model_name)"
   ]
  },
  {
   "cell_type": "code",
   "execution_count": 16,
   "metadata": {},
   "outputs": [],
   "source": [
    "pred, proba = predict(X_test, model)"
   ]
  },
  {
   "cell_type": "code",
   "execution_count": 17,
   "metadata": {},
   "outputs": [
    {
     "name": "stdout",
     "output_type": "stream",
     "text": [
      "Accuracy of the randomforest on test set: 0.873\n",
      "              precision    recall  f1-score   support\n",
      "\n",
      "           0       0.84      0.93      0.88      3136\n",
      "           1       0.92      0.81      0.86      2966\n",
      "\n",
      "   micro avg       0.87      0.87      0.87      6102\n",
      "   macro avg       0.88      0.87      0.87      6102\n",
      "weighted avg       0.88      0.87      0.87      6102\n",
      "\n",
      "F-score: 0.8620936048588781\n",
      "AUC: 0.8787136594167987\n",
      "                       Real Não Confiável  Real Confiável\n",
      "Predict Não Confiável                2917             219\n",
      "Predict Confiável                     553            2413\n"
     ]
    }
   ],
   "source": [
    "validation(X_test, y_test, proba, pred, model, model_name)"
   ]
  },
  {
   "cell_type": "code",
   "execution_count": 18,
   "metadata": {
    "scrolled": true
   },
   "outputs": [
    {
     "data": {
      "image/png": "[encoded data removed]",
      "text/plain": [
       "<Figure size 432x288 with 1 Axes>"
      ]
     },
     "metadata": {
      "needs_background": "light"
     },
     "output_type": "display_data"
    }
   ],
   "source": [
    "fpr,tpr,thr = plot_roc_curve(proba[:,1], y_test['target'], model_name)"
   ]
  },
  {
   "cell_type": "code",
   "execution_count": 19,
   "metadata": {},
   "outputs": [
    {
     "name": "stdout",
     "output_type": "stream",
     "text": [
      "Ks_2sampResult(statistic=0.7604728590694538, pvalue=0.0)\n",
      "KS = 0.76\n"
     ]
    },
    {
     "data": {
      "image/png": "[encoded data removed]",
      "text/plain": [
       "<Figure size 432x288 with 1 Axes>"
      ]
     },
     "metadata": {
      "needs_background": "light"
     },
     "output_type": "display_data"
    }
   ],
   "source": [
    "ks_test(proba[:,1],y_test['target'], model_name)"
   ]
  },
  {
   "cell_type": "code",
   "execution_count": 20,
   "metadata": {},
   "outputs": [
    {
     "data": {
      "text/plain": [
       "['randomforest.pkl']"
      ]
     },
     "execution_count": 20,
     "metadata": {},
     "output_type": "execute_result"
    }
   ],
   "source": [
    "joblib.dump(model, model_name+'.pkl')"
   ]
  },
  {
   "cell_type": "markdown",
   "metadata": {},
   "source": [
    "### Logistic Regression"
   ]
  },
  {
   "cell_type": "code",
   "execution_count": 21,
   "metadata": {},
   "outputs": [
    {
     "name": "stderr",
     "output_type": "stream",
     "text": [
      "c:\\users\\prisk\\appdata\\local\\programs\\python\\python37-32\\lib\\site-packages\\sklearn\\linear_model\\logistic.py:433: FutureWarning: Default solver will be changed to 'lbfgs' in 0.22. Specify a solver to silence this warning.\n",
      "  FutureWarning)\n"
     ]
    }
   ],
   "source": [
    "model_name = 'logreg'\n",
    "model = treinamento(X_train, y_train.values.ravel(), model_name)"
   ]
  },
  {
   "cell_type": "code",
   "execution_count": 22,
   "metadata": {},
   "outputs": [],
   "source": [
    "pred, proba = predict(X_test, model)"
   ]
  },
  {
   "cell_type": "code",
   "execution_count": 23,
   "metadata": {},
   "outputs": [
    {
     "name": "stdout",
     "output_type": "stream",
     "text": [
      "Accuracy of the logreg on test set: 0.942\n",
      "              precision    recall  f1-score   support\n",
      "\n",
      "           0       0.96      0.93      0.94      3136\n",
      "           1       0.93      0.95      0.94      2966\n",
      "\n",
      "   micro avg       0.94      0.94      0.94      6102\n",
      "   macro avg       0.94      0.94      0.94      6102\n",
      "weighted avg       0.94      0.94      0.94      6102\n",
      "\n",
      "F-score: 0.941156914893617\n",
      "AUC: 0.9419817158326709\n",
      "                       Real Não Confiável  Real Confiável\n",
      "Predict Não Confiável                2917             219\n",
      "Predict Confiável                     135            2831\n"
     ]
    }
   ],
   "source": [
    "validation(X_test, y_test, proba, pred, model, model_name)"
   ]
  },
  {
   "cell_type": "code",
   "execution_count": 24,
   "metadata": {},
   "outputs": [
    {
     "data": {
      "image/png": "[encoded data removed]",
      "text/plain": [
       "<Figure size 432x288 with 1 Axes>"
      ]
     },
     "metadata": {
      "needs_background": "light"
     },
     "output_type": "display_data"
    }
   ],
   "source": [
    "fpr,tpr,thr = plot_roc_curve(proba[:,1], y_test['target'], model_name)"
   ]
  },
  {
   "cell_type": "code",
   "execution_count": 25,
   "metadata": {
    "scrolled": true
   },
   "outputs": [
    {
     "name": "stdout",
     "output_type": "stream",
     "text": [
      "Ks_2sampResult(statistic=0.8912429730826923, pvalue=0.0)\n",
      "KS = 0.89\n"
     ]
    },
    {
     "data": {
      "image/png": "[encoded data removed]",
      "text/plain": [
       "<Figure size 432x288 with 1 Axes>"
      ]
     },
     "metadata": {
      "needs_background": "light"
     },
     "output_type": "display_data"
    }
   ],
   "source": [
    "ks_test(proba[:,1],y_test['target'], model_name)"
   ]
  },
  {
   "cell_type": "code",
   "execution_count": 26,
   "metadata": {},
   "outputs": [
    {
     "data": {
      "text/plain": [
       "['logreg.pkl']"
      ]
     },
     "execution_count": 26,
     "metadata": {},
     "output_type": "execute_result"
    }
   ],
   "source": [
    "joblib.dump(model, model_name+'.pkl')"
   ]
  },
  {
   "cell_type": "markdown",
   "metadata": {},
   "source": [
    "### Preparação da submissão para o Kaggle\n",
    "Para submeter os 3 modelos no kaggle, eles serão treinados utilizando o conjunto de treinamento disponibilizado inteiro e será feita a predição do conjunto de teste. O resultado dessa predição será salvo em um arquivo no formato CSV e submetido ao kaggle."
   ]
  },
  {
   "cell_type": "code",
   "execution_count": 29,
   "metadata": {},
   "outputs": [],
   "source": [
    "X_train = features\n",
    "X_test = scipy.sparse.load_npz('dataset/processed_test.npz')\n",
    "y_train = target\n",
    "ids_train = ids\n",
    "#ids_test = pd.read_csv('dataset/test_ids.csv')"
   ]
  },
  {
   "cell_type": "code",
   "execution_count": 36,
   "metadata": {},
   "outputs": [
    {
     "ename": "AttributeError",
     "evalue": "'AdaBoostClassifier' object has no attribute 'transform'",
     "output_type": "error",
     "traceback": [
      "\u001b[1;31m---------------------------------------------------------------------------\u001b[0m",
      "\u001b[1;31mAttributeError\u001b[0m                            Traceback (most recent call last)",
      "\u001b[1;32m<ipython-input-36-1a450683dff7>\u001b[0m in \u001b[0;36m<module>\u001b[1;34m\u001b[0m\n\u001b[0;32m      1\u001b[0m \u001b[0mmodel_name\u001b[0m \u001b[1;33m=\u001b[0m \u001b[1;34m'adaboost'\u001b[0m\u001b[1;33m\u001b[0m\u001b[1;33m\u001b[0m\u001b[0m\n\u001b[0;32m      2\u001b[0m \u001b[0mmodel\u001b[0m \u001b[1;33m=\u001b[0m \u001b[0mtreinamento\u001b[0m\u001b[1;33m(\u001b[0m\u001b[0mX_train\u001b[0m\u001b[1;33m,\u001b[0m \u001b[0my_train\u001b[0m\u001b[1;33m.\u001b[0m\u001b[0mvalues\u001b[0m\u001b[1;33m.\u001b[0m\u001b[0mravel\u001b[0m\u001b[1;33m(\u001b[0m\u001b[1;33m)\u001b[0m\u001b[1;33m,\u001b[0m \u001b[0mmodel_name\u001b[0m\u001b[1;33m)\u001b[0m\u001b[1;33m\u001b[0m\u001b[1;33m\u001b[0m\u001b[0m\n\u001b[1;32m----> 3\u001b[1;33m \u001b[0mpred\u001b[0m \u001b[1;33m=\u001b[0m \u001b[0mmodel\u001b[0m\u001b[1;33m.\u001b[0m\u001b[0mtransform\u001b[0m\u001b[1;33m(\u001b[0m\u001b[0mX_test\u001b[0m\u001b[1;33m)\u001b[0m\u001b[1;33m\u001b[0m\u001b[1;33m\u001b[0m\u001b[0m\n\u001b[0m\u001b[0;32m      4\u001b[0m \u001b[1;31m#pred, proba = predict(X_test, model)\u001b[0m\u001b[1;33m\u001b[0m\u001b[1;33m\u001b[0m\u001b[1;33m\u001b[0m\u001b[0m\n\u001b[0;32m      5\u001b[0m \u001b[0mpd\u001b[0m\u001b[1;33m.\u001b[0m\u001b[0mDataFrame\u001b[0m\u001b[1;33m(\u001b[0m\u001b[0mpred\u001b[0m\u001b[1;33m,\u001b[0m\u001b[0mcolumns\u001b[0m\u001b[1;33m=\u001b[0m\u001b[1;33m[\u001b[0m\u001b[1;34m'predictions'\u001b[0m\u001b[1;33m]\u001b[0m\u001b[1;33m)\u001b[0m\u001b[1;33m.\u001b[0m\u001b[0mto_csv\u001b[0m\u001b[1;33m(\u001b[0m\u001b[0mmodel_name\u001b[0m\u001b[1;33m+\u001b[0m\u001b[1;34m'_result.csv'\u001b[0m\u001b[1;33m,\u001b[0m\u001b[0mindex\u001b[0m\u001b[1;33m=\u001b[0m\u001b[1;32mFalse\u001b[0m\u001b[1;33m)\u001b[0m\u001b[1;33m\u001b[0m\u001b[1;33m\u001b[0m\u001b[0m\n",
      "\u001b[1;31mAttributeError\u001b[0m: 'AdaBoostClassifier' object has no attribute 'transform'"
     ]
    }
   ],
   "source": [
    "model_name = 'adaboost'\n",
    "model = treinamento(X_train, y_train.values.ravel(), model_name)\n",
    "pred = model.transform(X_test)\n",
    "#pred, proba = predict(X_test, model)\n",
    "pd.DataFrame(pred,columns=['predictions']).to_csv(model_name+'_result.csv',index=False)"
   ]
  },
  {
   "cell_type": "code",
   "execution_count": 34,
   "metadata": {},
   "outputs": [
    {
     "data": {
      "text/plain": [
       "(5106, 66718)"
      ]
     },
     "execution_count": 34,
     "metadata": {},
     "output_type": "execute_result"
    }
   ],
   "source": [
    "from scipy.sparse import hstack\n",
    "X_train = hstack((X_train,np.array(pd.)[:,None]))\n",
    "X_train_dtm = hstack((X_train_dtm,np.array(X_train['wordcount'])[:,None]))\n",
    "\n",
    "train_df = pd.read_csv(\"Cinderella.csv\")\n",
    "train_df['label'] = 'train'\n",
    "\n",
    "score_df = pandas.read_csv(\"Slaughterhouse_copy.csv\")\n",
    "score_df['label'] = 'score'\n",
    "\n",
    "# Concat\n",
    "concat_df = pd.concat([train_df , score_df])\n",
    "\n",
    "# Create your dummies\n",
    "features_df = pd.get_dummies(concat_df, columns=['Overall_Sentiment', 'Word_1','Word_2','Word_3','Word_4','Word_5','Word_6','Word_7','Word_8','Word_9','Word_10','Word_11','Word_1','Word_12','Word_13','Word_14','Word_15','Word_16','Word_17','Word_18','Word_19','Word_20','Word_21','Word_22','Word_23','Word_24','Word_25','Word_26','Word_27','Word_28','Word_29','Word_30','Word_31','Word_32','Word_33','Word_34','Word_35','Word_36','Word_37','Word_38','Word_39','Word_40','Word_41', 'Word_42', 'Word_43'], dummy_na=True)\n",
    "\n",
    "# Split your data\n",
    "train_df = features_df[features_df['label'] == 'train']\n",
    "score_df = features_df[features_df['label'] == 'score']\n",
    "\n",
    "# Drop your labels\n",
    "train_df = train_df.drop('label', axis=1)\n",
    "score_df = score_df.drop('label', axis=1)"
   ]
  },
  {
   "cell_type": "code",
   "execution_count": null,
   "metadata": {},
   "outputs": [],
   "source": [
    "pd.Series()"
   ]
  }
 ],
 "metadata": {
  "kernelspec": {
   "display_name": "Python 3",
   "language": "python",
   "name": "python3"
  },
  "language_info": {
   "codemirror_mode": {
    "name": "ipython",
    "version": 3
   },
   "file_extension": ".py",
   "mimetype": "text/x-python",
   "name": "python",
   "nbconvert_exporter": "python",
   "pygments_lexer": "ipython3",
   "version": "3.7.1"
  }
 },
 "nbformat": 4,
 "nbformat_minor": 2
}
