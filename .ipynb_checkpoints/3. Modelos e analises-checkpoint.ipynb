{
 "cells": [
  {
   "cell_type": "markdown",
   "metadata": {},
   "source": [
    "# 3. Modelos e Análises"
   ]
  },
  {
   "cell_type": "markdown",
   "metadata": {},
   "source": [
    "Nessa etapa serão implementados os modelos de classificação:\n",
    "    * AdaBoost\n",
    "    * RandomForest\n",
    "    * Regressão Logística com otimização L2"
   ]
  },
  {
   "cell_type": "code",
   "execution_count": 210,
   "metadata": {},
   "outputs": [],
   "source": [
    "# importações\n",
    "import pandas as pd\n",
    "import numpy as np\n",
    "import scipy\n",
    "import matplotlib.pyplot as plt\n",
    "from sklearn.ensemble import AdaBoostClassifier\n",
    "from sklearn.ensemble import RandomForestClassifier\n",
    "from sklearn.svm import SVC\n",
    "from sklearn.linear_model import LogisticRegression\n",
    "from sklearn.model_selection import train_test_split\n",
    "from sklearn import metrics \n",
    "from sklearn.externals import joblib\n",
    "\n",
    "%matplotlib inline"
   ]
  },
  {
   "cell_type": "markdown",
   "metadata": {},
   "source": [
    "#### Importação do conjunto de dados\n",
    "Para avaliação dos modelos será necessário utilizar apenas o conjunto de treinamento. Por ser um desafio do Kaggle, o conjunto de teste é fornecido sem a classe, portanto não é possível obter métricas de validação dos modelos a partir desses dados."
   ]
  },
  {
   "cell_type": "code",
   "execution_count": 194,
   "metadata": {},
   "outputs": [],
   "source": [
    "# importa dataset de treino\n",
    "ids = pd.read_csv('dataset/train_ids.csv')\n",
    "target = pd.read_csv('dataset/train_target.csv')\n",
    "features = scipy.sparse.load_npz('dataset/processed_train.npz')"
   ]
  },
  {
   "cell_type": "code",
   "execution_count": 195,
   "metadata": {},
   "outputs": [],
   "source": [
    "# split em treino e teste\n",
    "X_train, X_test, y_train, y_test, ids_train, ids_test = train_test_split(features, target, ids, test_size=0.3, shuffle=True)"
   ]
  },
  {
   "cell_type": "markdown",
   "metadata": {},
   "source": [
    "#### Funções genéricas de treinamento e avaliação dos modelos"
   ]
  },
  {
   "cell_type": "code",
   "execution_count": 196,
   "metadata": {},
   "outputs": [],
   "source": [
    "def treinamento(X_train, y_train, model_name):\n",
    "    if model_name=='adaboost':\n",
    "        model = AdaBoostClassifier()\n",
    "    if model_name=='randomforest':\n",
    "        model = RandomForestClassifier()\n",
    "    if model_name=='logreg':\n",
    "        model = LogisticRegression(penalty='l2', dual=True, C=0.3)\n",
    "    \n",
    "    model.fit(X_train,y_train)\n",
    "    \n",
    "    return model"
   ]
  },
  {
   "cell_type": "code",
   "execution_count": 197,
   "metadata": {},
   "outputs": [],
   "source": [
    "def predict(X_test, model):\n",
    "    pred = model.predict(X_test)\n",
    "    proba = model.predict_proba(X_test)\n",
    "    return pred, proba"
   ]
  },
  {
   "cell_type": "code",
   "execution_count": 198,
   "metadata": {},
   "outputs": [],
   "source": [
    "def validation(X_test, y_test, proba, pred, model, model_name):\n",
    "    #plt.ylabel('Feature Importance Score')\n",
    "    with open(model_name+'_validation.txt', 'w') as f:\n",
    "        print('Accuracy of the '+model_name+' on test set: {:.3f}'.format(model.score(X_test, y_test['target'])))\n",
    "        print('Accuracy of the '+model_name+' on test set: {:.3f}'.format(model.score(X_test, y_test['target'])), file=f)\n",
    "\n",
    "        print(metrics.classification_report(y_test['target'], pred))\n",
    "        print(metrics.classification_report(y_test['target'], pred), file=f)\n",
    "\n",
    "        print('F-score: '+str(metrics.f1_score(y_test['target'],pred)))\n",
    "        print('F-score: '+str(metrics.f1_score(y_test['target'],pred)), file=f)\n",
    "        \n",
    "        fpr, tpr, thresholds = metrics.roc_curve(pred, y_test['target'])\n",
    "        print('AUC: ' + str(metrics.auc(fpr, tpr)))\n",
    "        print('AUC: ' + str(metrics.auc(fpr, tpr)), file=f)\n",
    "        \n",
    "        cm = metrics.confusion_matrix(y_test, pred)\n",
    "        print(pd.DataFrame({'Real Não Confiável': [cm[0,0],cm[1,0]],'Real Confiável': [cm[0,1],cm[1,1]]},index=['Predict Não Confiável', 'Predict Confiável']))\n",
    "        print(pd.DataFrame({'Real Não Confiável': [cm[0,0],cm[1,0]],'Real Confiável': [cm[0,1],cm[1,1]]},index=['Predict Não Confiável', 'Predict Confiável']), file=f)\n",
    "    return None\n",
    "\n",
    "def plot_roc_curve(y_score, y_true, model_name):\n",
    "    fpr,tpr,thr = metrics.roc_curve(y_score=y_score,y_true=y_true)\n",
    "    roc_auc = auc(fpr,tpr)\n",
    "    plt.figure()\n",
    "    lw = 2\n",
    "    plt.plot(fpr, tpr, color='darkorange',\n",
    "             lw=lw, label='ROC curve (area = %0.2f)' % roc_auc)\n",
    "    plt.plot([0, 1], [0, 1], color='navy', lw=lw, linestyle='--')\n",
    "    plt.xlim([0.0, 1.0])\n",
    "    plt.ylim([0.0, 1.05])\n",
    "    plt.xlabel('False Positive Rate')\n",
    "    plt.ylabel('True Positive Rate')\n",
    "    plt.title('Receiver operating characteristic example')\n",
    "    plt.legend(loc=\"best\")\n",
    "    plt.savefig(model_name+'_roc_curve.png')\n",
    "    return fpr,tpr,thr\n",
    "\n",
    "def ks_test(decision, y_test, model_name):\n",
    "    scores = pd.DataFrame(\n",
    "        {'scores': decision,\n",
    "         'y': y_test\n",
    "         })\n",
    "    bad = scores[scores['y']==0]\n",
    "    good = scores[scores['y']==1]\n",
    "    \n",
    "    valuesb, baseb = np.histogram(bad['scores'],2000)\n",
    "    valuesg, baseg = np.histogram(good['scores'],2000)\n",
    "    \n",
    "    ks = scipy.stats.ks_2samp(bad['scores'], good['scores'])\n",
    "    print(ks)\n",
    "    # evaluate the cumulative\n",
    "    cumulativeB = np.cumsum(valuesb)\n",
    "    cumulativeG = np.cumsum(valuesg)\n",
    "    cumBperc = (cumulativeB / cumulativeB[-1]) * 100\n",
    "    cumGperc = (cumulativeG / cumulativeG[-1]) * 100\n",
    "\n",
    "    # plot the cumulative function\n",
    "    plt.figure()\n",
    "    plt.plot(baseb[:-1], cumBperc, c='blue', label='Bad')\n",
    "    plt.plot(baseg[:-1], cumGperc, c='green', label='Good')\n",
    "    plt.title('Kolmogorov–Smirnov Test')\n",
    "    text = 'KS = %0.2f' % ks.statistic\n",
    "    plt.text(0.05, 90, text)\n",
    "    plt.savefig(model_name+'_ks_test.png')\n",
    "    # https://docs.scipy.org/doc/scipy-0.15.1/reference/generated/scipy.stats.ks_2samp.html\n",
    "    print(text)"
   ]
  },
  {
   "cell_type": "markdown",
   "metadata": {},
   "source": [
    "### Adaboost"
   ]
  },
  {
   "cell_type": "code",
   "execution_count": 205,
   "metadata": {},
   "outputs": [],
   "source": [
    "model_name = 'adaboost'\n",
    "model = treinamento(X_train, y_train.values.ravel(), model_name)"
   ]
  },
  {
   "cell_type": "code",
   "execution_count": 206,
   "metadata": {},
   "outputs": [],
   "source": [
    "pred, proba = predict(X_test, model)"
   ]
  },
  {
   "cell_type": "code",
   "execution_count": 207,
   "metadata": {
    "scrolled": true
   },
   "outputs": [
    {
     "name": "stdout",
     "output_type": "stream",
     "text": [
      "Accuracy of the adaboost on test set: 0.962\n",
      "              precision    recall  f1-score   support\n",
      "\n",
      "           0       0.97      0.96      0.96      3145\n",
      "           1       0.96      0.97      0.96      2957\n",
      "\n",
      "   micro avg       0.96      0.96      0.96      6102\n",
      "   macro avg       0.96      0.96      0.96      6102\n",
      "weighted avg       0.96      0.96      0.96      6102\n",
      "\n",
      "F-score: 0.9606325706594887\n",
      "AUC: 0.9615318601043259\n",
      "                       Real Não Confiável  Real Confiável\n",
      "Predict Não Confiável                3013             132\n",
      "Predict Confiável                     102            2855\n"
     ]
    }
   ],
   "source": [
    "validation(X_test, y_test, proba, pred, model, model_name)"
   ]
  },
  {
   "cell_type": "code",
   "execution_count": 208,
   "metadata": {},
   "outputs": [
    {
     "data": {
      "image/png": "[encoded data removed]",
      "text/plain": [
       "<Figure size 432x288 with 1 Axes>"
      ]
     },
     "metadata": {
      "needs_background": "light"
     },
     "output_type": "display_data"
    }
   ],
   "source": [
    "fpr,tpr,thr = plot_roc_curve(proba[:,1], y_test['target'], model_name)"
   ]
  },
  {
   "cell_type": "code",
   "execution_count": 209,
   "metadata": {
    "scrolled": true
   },
   "outputs": [
    {
     "name": "stdout",
     "output_type": "stream",
     "text": [
      "Ks_2sampResult(statistic=0.9253813402811791, pvalue=0.0)\n",
      "KS = 0.93\n"
     ]
    },
    {
     "data": {
      "image/png": "[encoded data removed]",
      "text/plain": [
       "<Figure size 432x288 with 1 Axes>"
      ]
     },
     "metadata": {
      "needs_background": "light"
     },
     "output_type": "display_data"
    }
   ],
   "source": [
    "ks_test(proba[:,1],y_test['target'], model_name)"
   ]
  },
  {
   "cell_type": "code",
   "execution_count": 211,
   "metadata": {},
   "outputs": [
    {
     "data": {
      "text/plain": [
       "['adaboost.pkl']"
      ]
     },
     "execution_count": 211,
     "metadata": {},
     "output_type": "execute_result"
    }
   ],
   "source": [
    "joblib.dump(model, model_name+'.pkl')"
   ]
  },
  {
   "cell_type": "markdown",
   "metadata": {},
   "source": [
    "### Random Forest"
   ]
  },
  {
   "cell_type": "code",
   "execution_count": 212,
   "metadata": {},
   "outputs": [
    {
     "name": "stderr",
     "output_type": "stream",
     "text": [
      "c:\\users\\prisk\\appdata\\local\\programs\\python\\python37-32\\lib\\site-packages\\sklearn\\ensemble\\forest.py:246: FutureWarning: The default value of n_estimators will change from 10 in version 0.20 to 100 in 0.22.\n",
      "  \"10 in version 0.20 to 100 in 0.22.\", FutureWarning)\n"
     ]
    }
   ],
   "source": [
    "model_name = 'randomforest'\n",
    "model = treinamento(X_train, y_train.values.ravel(), model_name)"
   ]
  },
  {
   "cell_type": "code",
   "execution_count": 213,
   "metadata": {},
   "outputs": [],
   "source": [
    "pred, proba = predict(X_test, model)"
   ]
  },
  {
   "cell_type": "code",
   "execution_count": 214,
   "metadata": {},
   "outputs": [
    {
     "name": "stdout",
     "output_type": "stream",
     "text": [
      "Accuracy of the randomforest on test set: 0.853\n",
      "              precision    recall  f1-score   support\n",
      "\n",
      "           0       0.81      0.93      0.87      3145\n",
      "           1       0.91      0.77      0.84      2957\n",
      "\n",
      "   micro avg       0.85      0.85      0.85      6102\n",
      "   macro avg       0.86      0.85      0.85      6102\n",
      "weighted avg       0.86      0.85      0.85      6102\n",
      "\n",
      "F-score: 0.835978835978836\n",
      "AUC: 0.8607743526870938\n",
      "                       Real Não Confiável  Real Confiável\n",
      "Predict Não Confiável                2912             233\n",
      "Predict Confiável                     666            2291\n"
     ]
    }
   ],
   "source": [
    "validation(X_test, y_test, proba, pred, model, model_name)"
   ]
  },
  {
   "cell_type": "code",
   "execution_count": 215,
   "metadata": {
    "scrolled": true
   },
   "outputs": [
    {
     "data": {
      "image/png": "[encoded data removed]",
      "text/plain": [
       "<Figure size 432x288 with 1 Axes>"
      ]
     },
     "metadata": {
      "needs_background": "light"
     },
     "output_type": "display_data"
    }
   ],
   "source": [
    "fpr,tpr,thr = plot_roc_curve(proba[:,1], y_test['target'], model_name)"
   ]
  },
  {
   "cell_type": "code",
   "execution_count": 216,
   "metadata": {},
   "outputs": [
    {
     "name": "stdout",
     "output_type": "stream",
     "text": [
      "Ks_2sampResult(statistic=0.7230935405357017, pvalue=0.0)\n",
      "KS = 0.72\n"
     ]
    },
    {
     "data": {
      "image/png": "[encoded data removed]",
      "text/plain": [
       "<Figure size 432x288 with 1 Axes>"
      ]
     },
     "metadata": {
      "needs_background": "light"
     },
     "output_type": "display_data"
    }
   ],
   "source": [
    "ks_test(proba[:,1],y_test['target'], model_name)"
   ]
  },
  {
   "cell_type": "code",
   "execution_count": 217,
   "metadata": {},
   "outputs": [
    {
     "data": {
      "text/plain": [
       "['randomforest.pkl']"
      ]
     },
     "execution_count": 217,
     "metadata": {},
     "output_type": "execute_result"
    }
   ],
   "source": [
    "joblib.dump(model, model_name+'.pkl')"
   ]
  },
  {
   "cell_type": "markdown",
   "metadata": {},
   "source": [
    "### SVM"
   ]
  },
  {
   "cell_type": "markdown",
   "metadata": {},
   "source": [
    "### Logistic Regression"
   ]
  },
  {
   "cell_type": "code",
   "execution_count": null,
   "metadata": {},
   "outputs": [],
   "source": [
    "model_name = 'logreg'\n",
    "model = treinamento(X_train, y_train.values.ravel(), model_name)"
   ]
  },
  {
   "cell_type": "code",
   "execution_count": null,
   "metadata": {},
   "outputs": [],
   "source": [
    "pred, proba = predict(X_test, model)"
   ]
  },
  {
   "cell_type": "code",
   "execution_count": null,
   "metadata": {},
   "outputs": [],
   "source": [
    "validation(X_test, y_test, proba, pred, model, model_name)"
   ]
  },
  {
   "cell_type": "code",
   "execution_count": null,
   "metadata": {},
   "outputs": [],
   "source": [
    "fpr,tpr,thr = plot_roc_curve(proba[:,1], y_test['target'], model_name)"
   ]
  },
  {
   "cell_type": "code",
   "execution_count": null,
   "metadata": {
    "scrolled": true
   },
   "outputs": [],
   "source": [
    "ks_test(proba[:,1],y_test['target'], model_name)"
   ]
  },
  {
   "cell_type": "code",
   "execution_count": null,
   "metadata": {},
   "outputs": [],
   "source": [
    "joblib.dump(model, model_name+'.pkl')"
   ]
  },
  {
   "cell_type": "markdown",
   "metadata": {},
   "source": [
    "### Preparação da submissão para o Kaggle\n",
    "Para submeter os 3 modelos no kaggle, eles serão treinados utilizando o conjunto de treinamento disponibilizado inteiro e será feita a predição do conjunto de teste. O resultado dessa predição será salvo em um arquivo no formato CSV e submetido ao kaggle."
   ]
  },
  {
   "cell_type": "code",
   "execution_count": null,
   "metadata": {},
   "outputs": [],
   "source": [
    "X_train = features\n",
    "X_test = scipy.sparse.load_npz('dataset/processed_test.npz')\n",
    "y_train = target\n",
    "y_test = pd.read_csv('dataset/test_target.csv')\n",
    "ids_train = ids\n",
    "ids_test = pd.read_csv('dataset/test_ids.csv')"
   ]
  },
  {
   "cell_type": "code",
   "execution_count": null,
   "metadata": {},
   "outputs": [],
   "source": [
    "model_name = 'adaboost'\n",
    "model = treinamento(X_train, y_train.values.ravel(), model_name)\n",
    "pred, proba = predict(X_test, model)\n",
    "pd.DataFrame(pred,columns=['predictions']).to_csv(model_name+'_result.csv',index=False)"
   ]
  },
  {
   "cell_type": "code",
   "execution_count": null,
   "metadata": {},
   "outputs": [],
   "source": []
  }
 ],
 "metadata": {
  "kernelspec": {
   "display_name": "Python 3",
   "language": "python",
   "name": "python3"
  },
  "language_info": {
   "codemirror_mode": {
    "name": "ipython",
    "version": 3
   },
   "file_extension": ".py",
   "mimetype": "text/x-python",
   "name": "python",
   "nbconvert_exporter": "python",
   "pygments_lexer": "ipython3",
   "version": "3.7.1"
  }
 },
 "nbformat": 4,
 "nbformat_minor": 2
}
